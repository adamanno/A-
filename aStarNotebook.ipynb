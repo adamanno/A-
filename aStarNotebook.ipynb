{
 "cells": [
  {
   "cell_type": "code",
   "execution_count": null,
   "metadata": {},
   "outputs": [],
   "source": [
    "from aStar import aStar, node\n",
    "import numpy as np\n",
    "import matplotlib.pyplot as plt\n",
    "import cv2\n",
    "\n",
    "# map = np.genfromtxt('maze.csv', delimiter=',')\n",
    "\n",
    "map = np.array([[0, 0, 0, 0, 1, 1, 1, 1, 1, 1, 1], \n",
    "                [0, 0, 0, 0, 0, 1, 1, 1, 1, 1, 1],\n",
    "                [1, 1, 0, 1, 1, 1, 0, 0, 0, 0, 1],\n",
    "                [1, 0, 0, 0, 0, 0, 0, 0, 1, 0, 0],\n",
    "                [1, 1, 1, 1, 1, 1, 1, 0, 1, 1, 0],\n",
    "                [0, 0, 0, 1, 1, 1, 1, 0, 1, 1, 1],\n",
    "                [0, 1, 0, 0, 0, 1, 1, 0, 0, 0, 0],\n",
    "                [0, 1, 1, 1, 0, 0, 0, 0, 0, 0, 0]])\n",
    "\n",
    "start = node(None, (0,0))\n",
    "end = node(None, (7,0))\n",
    "\n",
    "p = aStar(start, end, map)\n",
    "\n",
    "fig, ax = plt.subplots()\n",
    "ax.imshow(map, 'binary')\n",
    "ax.plot(p[:,1],p[:,0],'-r.')\n",
    "ax.plot(start.position[1], start.position[0], 'bo')\n",
    "ax.plot(end.position[1], end.position[0], 'bo')"
   ]
  },
  {
   "cell_type": "code",
   "execution_count": null,
   "metadata": {},
   "outputs": [],
   "source": [
    "import numpy as np\n",
    "from aStar import aStar, node\n",
    "import matplotlib.pyplot as plt\n",
    "map = np.genfromtxt('maze.csv', delimiter=',')\n",
    "\n",
    "\n",
    "# create a subset of the map\n",
    "map = map[0:180,290:450]\n",
    "start = node(None, (98,33)) # start node\n",
    "end = node(None, (98,126)) # goal\n",
    "\n",
    "p = aStar(start, end, map)\n",
    "\n",
    "# plot data\n",
    "fig, ax = plt.subplots()\n",
    "ax.imshow(map, 'binary')\n",
    "ax.plot(start.position[1], start.position[0], 'b.')\n",
    "ax.plot(end.position[1], end.position[0], 'g.')\n",
    "ax.plot(p[:,1], p[:,0], 'r-')"
   ]
  },
  {
   "cell_type": "code",
   "execution_count": null,
   "metadata": {},
   "outputs": [],
   "source": [
    "import numpy as np\n",
    "import matplotlib.pyplot as plt\n",
    "from aStar import aStar, node\n",
    "from cv2 import erode, dilate, flip\n",
    "\n",
    "navMap = np.asarray(plt.imread('officeMap/map.pgm', 'rw'))\n",
    "navMap = navMap.copy()\n",
    "navMap[navMap >= 0.25] = 1\n",
    "navMap[navMap < 0.25] = 0\n",
    "\n",
    "navMap = np.logical_not(navMap).astype(np.uint8)\n",
    "kernel = np.ones((3,3)).astype(np.uint8)\n",
    "navMap = dilate(navMap, kernel, 1)\n",
    "\n",
    "# row, column\n",
    "start = node(None, (175,25))\n",
    "end = node(None, (75,175))\n",
    "\n",
    "# plotting\n",
    "fig, ax = plt.subplots()\n",
    "ax.imshow(navMap,'binary')\n",
    "ax.plot(start.position[1], start.position[0], 'b.')\n",
    "ax.plot(end.position[1], end.position[0], 'b.')\n",
    "p = aStar(start, end, navMap)\n",
    "ax.plot(p[:,1], p[:,0], 'r')\n",
    "fig.savefig('testmap2.png', dpi=1600)"
   ]
  },
  {
   "cell_type": "code",
   "execution_count": 6,
   "metadata": {},
   "outputs": [
    {
     "data": {
      "text/plain": [
       "[<matplotlib.lines.Line2D at 0x1564bcee0>]"
      ]
     },
     "execution_count": 6,
     "metadata": {},
     "output_type": "execute_result"
    },
    {
     "data": {
      "image/png": "[encoded data removed]",
      "text/plain": [
       "<Figure size 640x480 with 1 Axes>"
      ]
     },
     "metadata": {},
     "output_type": "display_data"
    }
   ],
   "source": [
    "import numpy as np\n",
    "import matplotlib.pyplot as plt\n",
    "from aStar import aStar, node\n",
    "from cv2 import dilate\n",
    "\n",
    "navMap = np.asarray(plt.imread('Entry_3/Entry_3.pgm', 'rw'))\n",
    "navMap = navMap.copy()\n",
    "navMap[navMap >= 0.25] = 1\n",
    "navMap[navMap < 0.25] = 0\n",
    "\n",
    "navMap = np.logical_not(navMap).astype(np.uint8)\n",
    "# kernel = np.ones((3,3)).astype(np.uint8)\n",
    "# navMap = dilate(navMap, kernel, 1)\n",
    "\n",
    "# row, column\n",
    "start = node(None, (300,300))\n",
    "end = node(None, (200,390))\n",
    "\n",
    "# plotting\n",
    "fig, ax = plt.subplots()\n",
    "ax.imshow(navMap,'binary')\n",
    "ax.plot(start.position[1], start.position[0], 'b.')\n",
    "ax.plot(end.position[1], end.position[0], 'b.')\n",
    "p = aStar(start, end, navMap)\n",
    "ax.plot(p[:,1], p[:,0], 'r')\n",
    "fig.savefig('testmap3.png', dpi=1600)"
   ]
  }
 ],
 "metadata": {
  "kernelspec": {
   "display_name": "Python 3.9.13 64-bit",
   "language": "python",
   "name": "python3"
  },
  "language_info": {
   "codemirror_mode": {
    "name": "ipython",
    "version": 3
   },
   "file_extension": ".py",
   "mimetype": "text/x-python",
   "name": "python",
   "nbconvert_exporter": "python",
   "pygments_lexer": "ipython3",
   "version": "3.9.13"
  },
  "orig_nbformat": 4,
  "vscode": {
   "interpreter": {
    "hash": "aee8b7b246df8f9039afb4144a1f6fd8d2ca17a180786b69acc140d282b71a49"
   }
  }
 },
 "nbformat": 4,
 "nbformat_minor": 2
}
